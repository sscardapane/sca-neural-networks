{
 "cells": [
  {
   "cell_type": "code",
   "execution_count": 106,
   "metadata": {},
   "outputs": [
    {
     "name": "stdout",
     "output_type": "stream",
     "text": [
      "The autoreload extension is already loaded. To reload it, use:\n",
      "  %reload_ext autoreload\n"
     ]
    }
   ],
   "source": [
    "%load_ext autoreload\n",
    "%autoreload 2"
   ]
  },
  {
   "cell_type": "code",
   "execution_count": 107,
   "metadata": {},
   "outputs": [
    {
     "name": "stdout",
     "output_type": "stream",
     "text": [
      "Populating the interactive namespace from numpy and matplotlib\n"
     ]
    },
    {
     "name": "stderr",
     "output_type": "stream",
     "text": [
      "C:\\Users\\simon\\anaconda3\\lib\\site-packages\\IPython\\core\\magics\\pylab.py:160: UserWarning: pylab import has clobbered these variables: ['bar']\n",
      "`%matplotlib` prevents importing * from pylab and numpy\n",
      "  \"\\n`%matplotlib` prevents importing * from pylab and numpy\"\n"
     ]
    }
   ],
   "source": [
    "%matplotlib inline\n",
    "%pylab inline"
   ]
  },
  {
   "cell_type": "code",
   "execution_count": 108,
   "metadata": {},
   "outputs": [],
   "source": [
    "import matplotlib.pyplot as plt\n",
    "import tqdm.notebook as tqdm"
   ]
  },
  {
   "cell_type": "code",
   "execution_count": 109,
   "metadata": {},
   "outputs": [],
   "source": [
    "import torch\n",
    "from torch import nn\n",
    "from torch.utils import data as ptdata"
   ]
  },
  {
   "cell_type": "code",
   "execution_count": 110,
   "metadata": {},
   "outputs": [],
   "source": [
    "import data\n",
    "from utils import standard_train_step, reset_seed, smooth_plot, l2_regularization, Flatten, evaluate_net\n",
    "from functional import make_functional, functional_mod_fw, fw_linearize"
   ]
  },
  {
   "cell_type": "code",
   "execution_count": 111,
   "metadata": {},
   "outputs": [
    {
     "name": "stdout",
     "output_type": "stream",
     "text": [
      "cuda\n"
     ]
    }
   ],
   "source": [
    "device = 'cuda' if (torch.cuda.is_available()) else 'cpu'\n",
    "print(device)"
   ]
  },
  {
   "cell_type": "code",
   "execution_count": 112,
   "metadata": {},
   "outputs": [],
   "source": [
    "reset_seed(device)"
   ]
  },
  {
   "cell_type": "code",
   "execution_count": 115,
   "metadata": {},
   "outputs": [],
   "source": [
    "dataset = 'boston'\n",
    "epochs = 50\n",
    "halflife = 10"
   ]
  },
  {
   "cell_type": "code",
   "execution_count": 153,
   "metadata": {},
   "outputs": [],
   "source": [
    "dataset = 'mnist'\n",
    "epochs = 1\n",
    "halflife = 30"
   ]
  },
  {
   "cell_type": "markdown",
   "metadata": {},
   "source": [
    "## Import data"
   ]
  },
  {
   "cell_type": "code",
   "execution_count": 154,
   "metadata": {},
   "outputs": [],
   "source": [
    "if dataset == 'boston':\n",
    "    train_loader, test_loader = data.load_boston()"
   ]
  },
  {
   "cell_type": "code",
   "execution_count": 155,
   "metadata": {},
   "outputs": [],
   "source": [
    "if dataset == 'mnist':\n",
    "    train_loader, test_loader = data.load_mnist()"
   ]
  },
  {
   "cell_type": "markdown",
   "metadata": {},
   "source": [
    "## Define model"
   ]
  },
  {
   "cell_type": "code",
   "execution_count": 156,
   "metadata": {},
   "outputs": [],
   "source": [
    "if dataset == 'boston':\n",
    "    def init_nn():\n",
    "        return nn.Sequential(\n",
    "            nn.Linear(13, 30),\n",
    "            nn.ReLU(),\n",
    "            nn.Linear(30, 1)\n",
    "        )\n",
    "    loss = nn.MSELoss()\n",
    "    test_metric = nn.MSELoss(reduction='sum')\n",
    "    l2_lambda = 1e-3"
   ]
  },
  {
   "cell_type": "code",
   "execution_count": 157,
   "metadata": {},
   "outputs": [],
   "source": [
    "if dataset == 'mnist':\n",
    "    def init_nn():\n",
    "        return nn.Sequential(\n",
    "            nn.Conv2d(1, 10, kernel_size=5),\n",
    "            nn.ReLU(),\n",
    "            nn.Conv2d(10, 20, kernel_size=5),\n",
    "            nn.ReLU(),\n",
    "            nn.MaxPool2d(2),\n",
    "            nn.Conv2d(20, 20, kernel_size=5),\n",
    "            nn.ReLU(),\n",
    "            nn.MaxPool2d(2),\n",
    "            Flatten(),\n",
    "            nn.Linear(180, 10),\n",
    "            nn.LogSoftmax(dim=1)\n",
    "        )\n",
    "    loss = nn.NLLLoss()\n",
    "    test_metric = lambda ytrue, ypred: (ytrue.eq(torch.argmax(ypred, dim=1))).sum()\n",
    "    l2_lambda = 1e-3"
   ]
  },
  {
   "cell_type": "code",
   "execution_count": 158,
   "metadata": {},
   "outputs": [],
   "source": [
    "net = init_nn()"
   ]
  },
  {
   "cell_type": "code",
   "execution_count": 159,
   "metadata": {},
   "outputs": [],
   "source": [
    "torch.save(net.state_dict(), 'temporary.pt')"
   ]
  },
  {
   "cell_type": "markdown",
   "metadata": {},
   "source": [
    "## Standard training"
   ]
  },
  {
   "cell_type": "code",
   "execution_count": 160,
   "metadata": {},
   "outputs": [
    {
     "data": {
      "text/plain": [
       "<All keys matched successfully>"
      ]
     },
     "execution_count": 160,
     "metadata": {},
     "output_type": "execute_result"
    }
   ],
   "source": [
    "net = init_nn().to(device)\n",
    "net.load_state_dict(torch.load('temporary.pt'))"
   ]
  },
  {
   "cell_type": "code",
   "execution_count": 161,
   "metadata": {},
   "outputs": [],
   "source": [
    "opt = torch.optim.Adam(params=net.parameters(), lr=1e-3)"
   ]
  },
  {
   "cell_type": "code",
   "execution_count": 162,
   "metadata": {},
   "outputs": [],
   "source": [
    "opt_iters = len(train_loader) * epochs"
   ]
  },
  {
   "cell_type": "code",
   "execution_count": 163,
   "metadata": {},
   "outputs": [
    {
     "data": {
      "application/vnd.jupyter.widget-view+json": {
       "model_id": "afa99ba001f741fc8a10b7bd48892cf2",
       "version_major": 2,
       "version_minor": 0
      },
      "text/plain": [
       "HBox(children=(FloatProgress(value=0.0, max=1875.0), HTML(value='')))"
      ]
     },
     "metadata": {},
     "output_type": "display_data"
    },
    {
     "name": "stdout",
     "output_type": "stream",
     "text": [
      "\n"
     ]
    }
   ],
   "source": [
    "losses_adam = []\n",
    "test_metrics_adam = []\n",
    "bar = tqdm.trange(opt_iters)\n",
    "for epoch in range(epochs):\n",
    "    test_metrics_adam.append(evaluate_net(net, test_loader, test_metric, device))\n",
    "    \n",
    "    for xb, yb in train_loader:\n",
    "        xb, yb = xb.to(device), yb.to(device)\n",
    "        l = standard_train_step(net, loss, opt, xb, yb, C=l2_lambda)\n",
    "        losses_adam.append(l)\n",
    "        bar.update()\n",
    "    bar.set_postfix({'Train loss': np.mean(losses_adam[-10:])})\n",
    "test_metrics_adam.append(evaluate_net(net, test_loader, test_metric, device))\n",
    "bar.close()"
   ]
  },
  {
   "cell_type": "code",
   "execution_count": 164,
   "metadata": {},
   "outputs": [
    {
     "data": {
      "image/png": "[encoded data removed]",
      "text/plain": [
       "<Figure size 432x288 with 1 Axes>"
      ]
     },
     "metadata": {
      "needs_background": "light"
     },
     "output_type": "display_data"
    }
   ],
   "source": [
    "smooth_plot(losses_adam, halflife=halflife)\n",
    "plt.yscale('log')"
   ]
  },
  {
   "cell_type": "code",
   "execution_count": 165,
   "metadata": {},
   "outputs": [
    {
     "data": {
      "text/plain": [
       "[<matplotlib.lines.Line2D at 0x24212945f88>]"
      ]
     },
     "execution_count": 165,
     "metadata": {},
     "output_type": "execute_result"
    },
    {
     "data": {
      "image/png": "[encoded data removed]",
      "text/plain": [
       "<Figure size 432x288 with 1 Axes>"
      ]
     },
     "metadata": {
      "needs_background": "light"
     },
     "output_type": "display_data"
    }
   ],
   "source": [
    "plt.plot(test_metrics_adam)"
   ]
  },
  {
   "cell_type": "markdown",
   "metadata": {},
   "source": [
    "## SCA training"
   ]
  },
  {
   "cell_type": "code",
   "execution_count": 166,
   "metadata": {},
   "outputs": [
    {
     "data": {
      "text/plain": [
       "<All keys matched successfully>"
      ]
     },
     "execution_count": 166,
     "metadata": {},
     "output_type": "execute_result"
    }
   ],
   "source": [
    "net = init_nn().to(device)\n",
    "net.load_state_dict(torch.load('temporary.pt'))"
   ]
  },
  {
   "cell_type": "code",
   "execution_count": 167,
   "metadata": {},
   "outputs": [],
   "source": [
    "# Build a copy of the current parameters for inner optimization\n",
    "v = []\n",
    "for p in net.parameters():\n",
    "    v.append(p.data.clone().detach().requires_grad_(True).to(device))"
   ]
  },
  {
   "cell_type": "code",
   "execution_count": 168,
   "metadata": {},
   "outputs": [],
   "source": [
    "# Build another copy to track the gradients\n",
    "d = []\n",
    "for p in net.parameters():\n",
    "    d.append(torch.zeros_like(p, requires_grad=False).to(device))"
   ]
  },
  {
   "cell_type": "code",
   "execution_count": 169,
   "metadata": {},
   "outputs": [],
   "source": [
    "rho = 0.9\n",
    "rho_eps = 0\n",
    "step_size = 0.01\n",
    "step_size_eps = 1e-3"
   ]
  },
  {
   "cell_type": "code",
   "execution_count": 170,
   "metadata": {},
   "outputs": [],
   "source": [
    "internal_iters = 1\n",
    "opt_iters = len(train_loader) * epochs"
   ]
  },
  {
   "cell_type": "code",
   "execution_count": 171,
   "metadata": {},
   "outputs": [],
   "source": [
    "def sca_step(xb, yb, step_size):\n",
    "        # Linearize around current point\n",
    "        params, names = make_functional(net)\n",
    "\n",
    "        net_linearized, ypred = fw_linearize(lambda *p: functional_mod_fw(xb, net, names, *p), params)\n",
    "\n",
    "        jvp_w0 = net_linearized(params)[0]\n",
    "\n",
    "        def surrogate_loss(v):\n",
    "            jvp_v = net_linearized(v)[0]\n",
    "            l = loss(ypred + jvp_v - jvp_w0, yb) + \\\n",
    "                    l2_regularization(v, C=l2_lambda)\n",
    "            dloss = 0\n",
    "            for (di, pi, vi) in zip(d, params, v):\n",
    "                dloss = dloss + torch.sum(di*(pi - vi))\n",
    "            return rho * l + (1 - rho) * dloss\n",
    "\n",
    "        opt_surrogate = torch.optim.Adam(params=v, lr=1e-3)\n",
    "        for _ in range(internal_iters):\n",
    "            l = surrogate_loss(v)\n",
    "            l.backward(retain_graph=True)\n",
    "            opt_surrogate.step()\n",
    "            opt_surrogate.zero_grad()\n",
    "\n",
    "        grads = torch.autograd.grad(loss(functional_mod_fw(xb, net, names, *params), yb), params)\n",
    "        for i in range(len(d)):\n",
    "            d[i] = (1 - rho)*d[i] + rho*grads[i] \n",
    "\n",
    "        with torch.no_grad():\n",
    "            for i in range(len(params)):\n",
    "                _ = params[i].set_((1 - step_size)*params[i] + step_size*v[i])\n",
    "\n",
    "        l = (loss(ypred, yb) + l2_regularization(params, C=l2_lambda)).item()\n",
    "        return l"
   ]
  },
  {
   "cell_type": "code",
   "execution_count": null,
   "metadata": {},
   "outputs": [
    {
     "data": {
      "application/vnd.jupyter.widget-view+json": {
       "model_id": "933c49420d6f42c5976d9f2de07e82bf",
       "version_major": 2,
       "version_minor": 0
      },
      "text/plain": [
       "HBox(children=(FloatProgress(value=0.0, max=1875.0), HTML(value='')))"
      ]
     },
     "metadata": {},
     "output_type": "display_data"
    }
   ],
   "source": [
    "losses_sca = []\n",
    "test_metrics_sca = []\n",
    "bar = tqdm.trange(opt_iters)\n",
    "for epoch in range(epochs):\n",
    "    test_metrics_sca.append(evaluate_net(net, test_loader, test_metric, device))\n",
    "    \n",
    "    for xb, yb in train_loader:\n",
    "        \n",
    "        xb, yb = xb.to(device), yb.to(device)\n",
    "        l = sca_step(xb, yb, step_size)\n",
    "        losses_sca.append(l)\n",
    "        step_size = step_size*(1 - step_size_eps * step_size)\n",
    "        bar.update()\n",
    "        \n",
    "    bar.set_postfix({'Train loss': np.mean(losses_sca[-10:])})\n",
    "    \n",
    "test_metrics_sca.append(evaluate_net(net, test_loader, test_metric, device))\n",
    "bar.close()"
   ]
  },
  {
   "cell_type": "code",
   "execution_count": null,
   "metadata": {},
   "outputs": [],
   "source": [
    "smooth_plot(losses_adam, halflife=halflife)\n",
    "smooth_plot(losses_sca, halflife=halflife)\n",
    "plt.yscale('log')"
   ]
  },
  {
   "cell_type": "code",
   "execution_count": null,
   "metadata": {},
   "outputs": [],
   "source": [
    "plt.plot(test_metrics_adam, label='Adam')\n",
    "plt.plot(test_metrics_sca, label='SCA')\n",
    "plt.legend()"
   ]
  },
  {
   "cell_type": "code",
   "execution_count": null,
   "metadata": {},
   "outputs": [],
   "source": []
  }
 ],
 "metadata": {
  "kernelspec": {
   "display_name": "Python 3",
   "language": "python",
   "name": "python3"
  },
  "language_info": {
   "codemirror_mode": {
    "name": "ipython",
    "version": 3
   },
   "file_extension": ".py",
   "mimetype": "text/x-python",
   "name": "python",
   "nbconvert_exporter": "python",
   "pygments_lexer": "ipython3",
   "version": "3.7.6"
  }
 },
 "nbformat": 4,
 "nbformat_minor": 2
}
